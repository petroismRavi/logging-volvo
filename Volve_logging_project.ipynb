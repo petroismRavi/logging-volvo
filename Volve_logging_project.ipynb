{
  "cells": [
    {
      "cell_type": "markdown",
      "metadata": {
        "id": "view-in-github",
        "colab_type": "text"
      },
      "source": [
        "<a href=\"https://colab.research.google.com/github/petroismRavi/logging-volvo/blob/main/Volve_logging_project.ipynb\" target=\"_parent\"><img src=\"https://colab.research.google.com/assets/colab-badge.svg\" alt=\"Open In Colab\"/></a>"
      ]
    },
    {
      "cell_type": "code",
      "execution_count": 6,
      "metadata": {
        "id": "DRkN9x30yNQu"
      },
      "outputs": [],
      "source": [
        "import pandas as pd\n",
        "import numpy as np\n",
        "import seaborn as sns\n",
        "import matplotlib.pyplot as plt\n",
        "import matplotlib.colors as colors\n",
        "import time\n",
        "\n",
        "import warnings\n",
        "warnings.filterwarnings(\"ignore\")\n",
        "from mpl_toolkits.axes_grid1 import make_axes_locatable"
      ]
    },
    {
      "cell_type": "code",
      "execution_count": 7,
      "metadata": {
        "id": "z7816quQyNQx"
      },
      "outputs": [],
      "source": [
        "#Loading data from volve data set\n",
        "well_13 = pd.read_excel('https://raw.githubusercontent.com/petroismRavi/logging-volvo/main/data-logging-volvo.xlsx', sheet_name='well 13',index_col=0)\n",
        "well_14 = pd.read_excel('https://raw.githubusercontent.com/petroismRavi/logging-volvo/main/data-logging-volvo.xlsx', sheet_name='well 14')\n",
        "well_15 = pd.read_excel('https://raw.githubusercontent.com/petroismRavi/logging-volvo/main/data-logging-volvo.xlsx', sheet_name='well 15')"
      ]
    },
    {
      "cell_type": "code",
      "execution_count": 8,
      "metadata": {
        "colab": {
          "base_uri": "https://localhost:8080/",
          "height": 237
        },
        "id": "4lxmku6lyNQx",
        "outputId": "d93e1b44-7b74-4ac1-e1cf-542be006b7e1"
      },
      "outputs": [
        {
          "output_type": "execute_result",
          "data": {
            "text/plain": [
              "        Well       GR      RT    RHOB    NPHI\n",
              "Depth                                        \n",
              "4175.5    13  20.6032  4.1812  2.6117  0.0770\n",
              "4176.0    13  21.4990  4.5516  2.6131  0.0798\n",
              "4176.5    13  22.4472  4.4804  2.6334  0.0801\n",
              "4177.0    13  29.6713  4.3859  2.6328  0.1005\n",
              "4177.5    13  34.7014  4.8566  2.6183  0.1001"
            ],
            "text/html": [
              "\n",
              "  <div id=\"df-ff6eb9cc-7866-4a3c-93d4-4089295592d4\" class=\"colab-df-container\">\n",
              "    <div>\n",
              "<style scoped>\n",
              "    .dataframe tbody tr th:only-of-type {\n",
              "        vertical-align: middle;\n",
              "    }\n",
              "\n",
              "    .dataframe tbody tr th {\n",
              "        vertical-align: top;\n",
              "    }\n",
              "\n",
              "    .dataframe thead th {\n",
              "        text-align: right;\n",
              "    }\n",
              "</style>\n",
              "<table border=\"1\" class=\"dataframe\">\n",
              "  <thead>\n",
              "    <tr style=\"text-align: right;\">\n",
              "      <th></th>\n",
              "      <th>Well</th>\n",
              "      <th>GR</th>\n",
              "      <th>RT</th>\n",
              "      <th>RHOB</th>\n",
              "      <th>NPHI</th>\n",
              "    </tr>\n",
              "    <tr>\n",
              "      <th>Depth</th>\n",
              "      <th></th>\n",
              "      <th></th>\n",
              "      <th></th>\n",
              "      <th></th>\n",
              "      <th></th>\n",
              "    </tr>\n",
              "  </thead>\n",
              "  <tbody>\n",
              "    <tr>\n",
              "      <th>4175.5</th>\n",
              "      <td>13</td>\n",
              "      <td>20.6032</td>\n",
              "      <td>4.1812</td>\n",
              "      <td>2.6117</td>\n",
              "      <td>0.0770</td>\n",
              "    </tr>\n",
              "    <tr>\n",
              "      <th>4176.0</th>\n",
              "      <td>13</td>\n",
              "      <td>21.4990</td>\n",
              "      <td>4.5516</td>\n",
              "      <td>2.6131</td>\n",
              "      <td>0.0798</td>\n",
              "    </tr>\n",
              "    <tr>\n",
              "      <th>4176.5</th>\n",
              "      <td>13</td>\n",
              "      <td>22.4472</td>\n",
              "      <td>4.4804</td>\n",
              "      <td>2.6334</td>\n",
              "      <td>0.0801</td>\n",
              "    </tr>\n",
              "    <tr>\n",
              "      <th>4177.0</th>\n",
              "      <td>13</td>\n",
              "      <td>29.6713</td>\n",
              "      <td>4.3859</td>\n",
              "      <td>2.6328</td>\n",
              "      <td>0.1005</td>\n",
              "    </tr>\n",
              "    <tr>\n",
              "      <th>4177.5</th>\n",
              "      <td>13</td>\n",
              "      <td>34.7014</td>\n",
              "      <td>4.8566</td>\n",
              "      <td>2.6183</td>\n",
              "      <td>0.1001</td>\n",
              "    </tr>\n",
              "  </tbody>\n",
              "</table>\n",
              "</div>\n",
              "    <div class=\"colab-df-buttons\">\n",
              "\n",
              "  <div class=\"colab-df-container\">\n",
              "    <button class=\"colab-df-convert\" onclick=\"convertToInteractive('df-ff6eb9cc-7866-4a3c-93d4-4089295592d4')\"\n",
              "            title=\"Convert this dataframe to an interactive table.\"\n",
              "            style=\"display:none;\">\n",
              "\n",
              "  <svg xmlns=\"http://www.w3.org/2000/svg\" height=\"24px\" viewBox=\"0 -960 960 960\">\n",
              "    <path d=\"M120-120v-720h720v720H120Zm60-500h600v-160H180v160Zm220 220h160v-160H400v160Zm0 220h160v-160H400v160ZM180-400h160v-160H180v160Zm440 0h160v-160H620v160ZM180-180h160v-160H180v160Zm440 0h160v-160H620v160Z\"/>\n",
              "  </svg>\n",
              "    </button>\n",
              "\n",
              "  <style>\n",
              "    .colab-df-container {\n",
              "      display:flex;\n",
              "      gap: 12px;\n",
              "    }\n",
              "\n",
              "    .colab-df-convert {\n",
              "      background-color: #E8F0FE;\n",
              "      border: none;\n",
              "      border-radius: 50%;\n",
              "      cursor: pointer;\n",
              "      display: none;\n",
              "      fill: #1967D2;\n",
              "      height: 32px;\n",
              "      padding: 0 0 0 0;\n",
              "      width: 32px;\n",
              "    }\n",
              "\n",
              "    .colab-df-convert:hover {\n",
              "      background-color: #E2EBFA;\n",
              "      box-shadow: 0px 1px 2px rgba(60, 64, 67, 0.3), 0px 1px 3px 1px rgba(60, 64, 67, 0.15);\n",
              "      fill: #174EA6;\n",
              "    }\n",
              "\n",
              "    .colab-df-buttons div {\n",
              "      margin-bottom: 4px;\n",
              "    }\n",
              "\n",
              "    [theme=dark] .colab-df-convert {\n",
              "      background-color: #3B4455;\n",
              "      fill: #D2E3FC;\n",
              "    }\n",
              "\n",
              "    [theme=dark] .colab-df-convert:hover {\n",
              "      background-color: #434B5C;\n",
              "      box-shadow: 0px 1px 3px 1px rgba(0, 0, 0, 0.15);\n",
              "      filter: drop-shadow(0px 1px 2px rgba(0, 0, 0, 0.3));\n",
              "      fill: #FFFFFF;\n",
              "    }\n",
              "  </style>\n",
              "\n",
              "    <script>\n",
              "      const buttonEl =\n",
              "        document.querySelector('#df-ff6eb9cc-7866-4a3c-93d4-4089295592d4 button.colab-df-convert');\n",
              "      buttonEl.style.display =\n",
              "        google.colab.kernel.accessAllowed ? 'block' : 'none';\n",
              "\n",
              "      async function convertToInteractive(key) {\n",
              "        const element = document.querySelector('#df-ff6eb9cc-7866-4a3c-93d4-4089295592d4');\n",
              "        const dataTable =\n",
              "          await google.colab.kernel.invokeFunction('convertToInteractive',\n",
              "                                                    [key], {});\n",
              "        if (!dataTable) return;\n",
              "\n",
              "        const docLinkHtml = 'Like what you see? Visit the ' +\n",
              "          '<a target=\"_blank\" href=https://colab.research.google.com/notebooks/data_table.ipynb>data table notebook</a>'\n",
              "          + ' to learn more about interactive tables.';\n",
              "        element.innerHTML = '';\n",
              "        dataTable['output_type'] = 'display_data';\n",
              "        await google.colab.output.renderOutput(dataTable, element);\n",
              "        const docLink = document.createElement('div');\n",
              "        docLink.innerHTML = docLinkHtml;\n",
              "        element.appendChild(docLink);\n",
              "      }\n",
              "    </script>\n",
              "  </div>\n",
              "\n",
              "\n",
              "<div id=\"df-6c4b0ca0-1172-4116-953e-ae78e495b50f\">\n",
              "  <button class=\"colab-df-quickchart\" onclick=\"quickchart('df-6c4b0ca0-1172-4116-953e-ae78e495b50f')\"\n",
              "            title=\"Suggest charts.\"\n",
              "            style=\"display:none;\">\n",
              "\n",
              "<svg xmlns=\"http://www.w3.org/2000/svg\" height=\"24px\"viewBox=\"0 0 24 24\"\n",
              "     width=\"24px\">\n",
              "    <g>\n",
              "        <path d=\"M19 3H5c-1.1 0-2 .9-2 2v14c0 1.1.9 2 2 2h14c1.1 0 2-.9 2-2V5c0-1.1-.9-2-2-2zM9 17H7v-7h2v7zm4 0h-2V7h2v10zm4 0h-2v-4h2v4z\"/>\n",
              "    </g>\n",
              "</svg>\n",
              "  </button>\n",
              "\n",
              "<style>\n",
              "  .colab-df-quickchart {\n",
              "      --bg-color: #E8F0FE;\n",
              "      --fill-color: #1967D2;\n",
              "      --hover-bg-color: #E2EBFA;\n",
              "      --hover-fill-color: #174EA6;\n",
              "      --disabled-fill-color: #AAA;\n",
              "      --disabled-bg-color: #DDD;\n",
              "  }\n",
              "\n",
              "  [theme=dark] .colab-df-quickchart {\n",
              "      --bg-color: #3B4455;\n",
              "      --fill-color: #D2E3FC;\n",
              "      --hover-bg-color: #434B5C;\n",
              "      --hover-fill-color: #FFFFFF;\n",
              "      --disabled-bg-color: #3B4455;\n",
              "      --disabled-fill-color: #666;\n",
              "  }\n",
              "\n",
              "  .colab-df-quickchart {\n",
              "    background-color: var(--bg-color);\n",
              "    border: none;\n",
              "    border-radius: 50%;\n",
              "    cursor: pointer;\n",
              "    display: none;\n",
              "    fill: var(--fill-color);\n",
              "    height: 32px;\n",
              "    padding: 0;\n",
              "    width: 32px;\n",
              "  }\n",
              "\n",
              "  .colab-df-quickchart:hover {\n",
              "    background-color: var(--hover-bg-color);\n",
              "    box-shadow: 0 1px 2px rgba(60, 64, 67, 0.3), 0 1px 3px 1px rgba(60, 64, 67, 0.15);\n",
              "    fill: var(--button-hover-fill-color);\n",
              "  }\n",
              "\n",
              "  .colab-df-quickchart-complete:disabled,\n",
              "  .colab-df-quickchart-complete:disabled:hover {\n",
              "    background-color: var(--disabled-bg-color);\n",
              "    fill: var(--disabled-fill-color);\n",
              "    box-shadow: none;\n",
              "  }\n",
              "\n",
              "  .colab-df-spinner {\n",
              "    border: 2px solid var(--fill-color);\n",
              "    border-color: transparent;\n",
              "    border-bottom-color: var(--fill-color);\n",
              "    animation:\n",
              "      spin 1s steps(1) infinite;\n",
              "  }\n",
              "\n",
              "  @keyframes spin {\n",
              "    0% {\n",
              "      border-color: transparent;\n",
              "      border-bottom-color: var(--fill-color);\n",
              "      border-left-color: var(--fill-color);\n",
              "    }\n",
              "    20% {\n",
              "      border-color: transparent;\n",
              "      border-left-color: var(--fill-color);\n",
              "      border-top-color: var(--fill-color);\n",
              "    }\n",
              "    30% {\n",
              "      border-color: transparent;\n",
              "      border-left-color: var(--fill-color);\n",
              "      border-top-color: var(--fill-color);\n",
              "      border-right-color: var(--fill-color);\n",
              "    }\n",
              "    40% {\n",
              "      border-color: transparent;\n",
              "      border-right-color: var(--fill-color);\n",
              "      border-top-color: var(--fill-color);\n",
              "    }\n",
              "    60% {\n",
              "      border-color: transparent;\n",
              "      border-right-color: var(--fill-color);\n",
              "    }\n",
              "    80% {\n",
              "      border-color: transparent;\n",
              "      border-right-color: var(--fill-color);\n",
              "      border-bottom-color: var(--fill-color);\n",
              "    }\n",
              "    90% {\n",
              "      border-color: transparent;\n",
              "      border-bottom-color: var(--fill-color);\n",
              "    }\n",
              "  }\n",
              "</style>\n",
              "\n",
              "  <script>\n",
              "    async function quickchart(key) {\n",
              "      const quickchartButtonEl =\n",
              "        document.querySelector('#' + key + ' button');\n",
              "      quickchartButtonEl.disabled = true;  // To prevent multiple clicks.\n",
              "      quickchartButtonEl.classList.add('colab-df-spinner');\n",
              "      try {\n",
              "        const charts = await google.colab.kernel.invokeFunction(\n",
              "            'suggestCharts', [key], {});\n",
              "      } catch (error) {\n",
              "        console.error('Error during call to suggestCharts:', error);\n",
              "      }\n",
              "      quickchartButtonEl.classList.remove('colab-df-spinner');\n",
              "      quickchartButtonEl.classList.add('colab-df-quickchart-complete');\n",
              "    }\n",
              "    (() => {\n",
              "      let quickchartButtonEl =\n",
              "        document.querySelector('#df-6c4b0ca0-1172-4116-953e-ae78e495b50f button');\n",
              "      quickchartButtonEl.style.display =\n",
              "        google.colab.kernel.accessAllowed ? 'block' : 'none';\n",
              "    })();\n",
              "  </script>\n",
              "</div>\n",
              "    </div>\n",
              "  </div>\n"
            ]
          },
          "metadata": {},
          "execution_count": 8
        }
      ],
      "source": [
        "well_13.head()"
      ]
    },
    {
      "cell_type": "code",
      "execution_count": 9,
      "metadata": {
        "colab": {
          "base_uri": "https://localhost:8080/",
          "height": 206
        },
        "id": "UOBfVXh9yNQy",
        "outputId": "1317a3aa-4aea-47e2-d453-7f701ef15859"
      },
      "outputs": [
        {
          "output_type": "execute_result",
          "data": {
            "text/plain": [
              "    Depth  Well       GR      RT    RHOB    NPHI Facies\n",
              "0  3178.5    14  50.2190  0.5888  2.3296  0.3657     SH\n",
              "1  3179.0    14  47.2468  0.7768  2.3170  0.3776     UN\n",
              "2  3179.5    14  49.5247  1.0707  2.2960  0.5390     SH\n",
              "3  3180.0    14  44.9124  1.4460  2.2514  0.5482     UN\n",
              "4  3180.5    14  47.0048  0.9542  2.2733  0.5076     UN"
            ],
            "text/html": [
              "\n",
              "  <div id=\"df-5c7506da-48d5-468d-bc2c-ec5ed3f834cd\" class=\"colab-df-container\">\n",
              "    <div>\n",
              "<style scoped>\n",
              "    .dataframe tbody tr th:only-of-type {\n",
              "        vertical-align: middle;\n",
              "    }\n",
              "\n",
              "    .dataframe tbody tr th {\n",
              "        vertical-align: top;\n",
              "    }\n",
              "\n",
              "    .dataframe thead th {\n",
              "        text-align: right;\n",
              "    }\n",
              "</style>\n",
              "<table border=\"1\" class=\"dataframe\">\n",
              "  <thead>\n",
              "    <tr style=\"text-align: right;\">\n",
              "      <th></th>\n",
              "      <th>Depth</th>\n",
              "      <th>Well</th>\n",
              "      <th>GR</th>\n",
              "      <th>RT</th>\n",
              "      <th>RHOB</th>\n",
              "      <th>NPHI</th>\n",
              "      <th>Facies</th>\n",
              "    </tr>\n",
              "  </thead>\n",
              "  <tbody>\n",
              "    <tr>\n",
              "      <th>0</th>\n",
              "      <td>3178.5</td>\n",
              "      <td>14</td>\n",
              "      <td>50.2190</td>\n",
              "      <td>0.5888</td>\n",
              "      <td>2.3296</td>\n",
              "      <td>0.3657</td>\n",
              "      <td>SH</td>\n",
              "    </tr>\n",
              "    <tr>\n",
              "      <th>1</th>\n",
              "      <td>3179.0</td>\n",
              "      <td>14</td>\n",
              "      <td>47.2468</td>\n",
              "      <td>0.7768</td>\n",
              "      <td>2.3170</td>\n",
              "      <td>0.3776</td>\n",
              "      <td>UN</td>\n",
              "    </tr>\n",
              "    <tr>\n",
              "      <th>2</th>\n",
              "      <td>3179.5</td>\n",
              "      <td>14</td>\n",
              "      <td>49.5247</td>\n",
              "      <td>1.0707</td>\n",
              "      <td>2.2960</td>\n",
              "      <td>0.5390</td>\n",
              "      <td>SH</td>\n",
              "    </tr>\n",
              "    <tr>\n",
              "      <th>3</th>\n",
              "      <td>3180.0</td>\n",
              "      <td>14</td>\n",
              "      <td>44.9124</td>\n",
              "      <td>1.4460</td>\n",
              "      <td>2.2514</td>\n",
              "      <td>0.5482</td>\n",
              "      <td>UN</td>\n",
              "    </tr>\n",
              "    <tr>\n",
              "      <th>4</th>\n",
              "      <td>3180.5</td>\n",
              "      <td>14</td>\n",
              "      <td>47.0048</td>\n",
              "      <td>0.9542</td>\n",
              "      <td>2.2733</td>\n",
              "      <td>0.5076</td>\n",
              "      <td>UN</td>\n",
              "    </tr>\n",
              "  </tbody>\n",
              "</table>\n",
              "</div>\n",
              "    <div class=\"colab-df-buttons\">\n",
              "\n",
              "  <div class=\"colab-df-container\">\n",
              "    <button class=\"colab-df-convert\" onclick=\"convertToInteractive('df-5c7506da-48d5-468d-bc2c-ec5ed3f834cd')\"\n",
              "            title=\"Convert this dataframe to an interactive table.\"\n",
              "            style=\"display:none;\">\n",
              "\n",
              "  <svg xmlns=\"http://www.w3.org/2000/svg\" height=\"24px\" viewBox=\"0 -960 960 960\">\n",
              "    <path d=\"M120-120v-720h720v720H120Zm60-500h600v-160H180v160Zm220 220h160v-160H400v160Zm0 220h160v-160H400v160ZM180-400h160v-160H180v160Zm440 0h160v-160H620v160ZM180-180h160v-160H180v160Zm440 0h160v-160H620v160Z\"/>\n",
              "  </svg>\n",
              "    </button>\n",
              "\n",
              "  <style>\n",
              "    .colab-df-container {\n",
              "      display:flex;\n",
              "      gap: 12px;\n",
              "    }\n",
              "\n",
              "    .colab-df-convert {\n",
              "      background-color: #E8F0FE;\n",
              "      border: none;\n",
              "      border-radius: 50%;\n",
              "      cursor: pointer;\n",
              "      display: none;\n",
              "      fill: #1967D2;\n",
              "      height: 32px;\n",
              "      padding: 0 0 0 0;\n",
              "      width: 32px;\n",
              "    }\n",
              "\n",
              "    .colab-df-convert:hover {\n",
              "      background-color: #E2EBFA;\n",
              "      box-shadow: 0px 1px 2px rgba(60, 64, 67, 0.3), 0px 1px 3px 1px rgba(60, 64, 67, 0.15);\n",
              "      fill: #174EA6;\n",
              "    }\n",
              "\n",
              "    .colab-df-buttons div {\n",
              "      margin-bottom: 4px;\n",
              "    }\n",
              "\n",
              "    [theme=dark] .colab-df-convert {\n",
              "      background-color: #3B4455;\n",
              "      fill: #D2E3FC;\n",
              "    }\n",
              "\n",
              "    [theme=dark] .colab-df-convert:hover {\n",
              "      background-color: #434B5C;\n",
              "      box-shadow: 0px 1px 3px 1px rgba(0, 0, 0, 0.15);\n",
              "      filter: drop-shadow(0px 1px 2px rgba(0, 0, 0, 0.3));\n",
              "      fill: #FFFFFF;\n",
              "    }\n",
              "  </style>\n",
              "\n",
              "    <script>\n",
              "      const buttonEl =\n",
              "        document.querySelector('#df-5c7506da-48d5-468d-bc2c-ec5ed3f834cd button.colab-df-convert');\n",
              "      buttonEl.style.display =\n",
              "        google.colab.kernel.accessAllowed ? 'block' : 'none';\n",
              "\n",
              "      async function convertToInteractive(key) {\n",
              "        const element = document.querySelector('#df-5c7506da-48d5-468d-bc2c-ec5ed3f834cd');\n",
              "        const dataTable =\n",
              "          await google.colab.kernel.invokeFunction('convertToInteractive',\n",
              "                                                    [key], {});\n",
              "        if (!dataTable) return;\n",
              "\n",
              "        const docLinkHtml = 'Like what you see? Visit the ' +\n",
              "          '<a target=\"_blank\" href=https://colab.research.google.com/notebooks/data_table.ipynb>data table notebook</a>'\n",
              "          + ' to learn more about interactive tables.';\n",
              "        element.innerHTML = '';\n",
              "        dataTable['output_type'] = 'display_data';\n",
              "        await google.colab.output.renderOutput(dataTable, element);\n",
              "        const docLink = document.createElement('div');\n",
              "        docLink.innerHTML = docLinkHtml;\n",
              "        element.appendChild(docLink);\n",
              "      }\n",
              "    </script>\n",
              "  </div>\n",
              "\n",
              "\n",
              "<div id=\"df-aad96e4a-dd81-4724-bf81-81017d63ab81\">\n",
              "  <button class=\"colab-df-quickchart\" onclick=\"quickchart('df-aad96e4a-dd81-4724-bf81-81017d63ab81')\"\n",
              "            title=\"Suggest charts.\"\n",
              "            style=\"display:none;\">\n",
              "\n",
              "<svg xmlns=\"http://www.w3.org/2000/svg\" height=\"24px\"viewBox=\"0 0 24 24\"\n",
              "     width=\"24px\">\n",
              "    <g>\n",
              "        <path d=\"M19 3H5c-1.1 0-2 .9-2 2v14c0 1.1.9 2 2 2h14c1.1 0 2-.9 2-2V5c0-1.1-.9-2-2-2zM9 17H7v-7h2v7zm4 0h-2V7h2v10zm4 0h-2v-4h2v4z\"/>\n",
              "    </g>\n",
              "</svg>\n",
              "  </button>\n",
              "\n",
              "<style>\n",
              "  .colab-df-quickchart {\n",
              "      --bg-color: #E8F0FE;\n",
              "      --fill-color: #1967D2;\n",
              "      --hover-bg-color: #E2EBFA;\n",
              "      --hover-fill-color: #174EA6;\n",
              "      --disabled-fill-color: #AAA;\n",
              "      --disabled-bg-color: #DDD;\n",
              "  }\n",
              "\n",
              "  [theme=dark] .colab-df-quickchart {\n",
              "      --bg-color: #3B4455;\n",
              "      --fill-color: #D2E3FC;\n",
              "      --hover-bg-color: #434B5C;\n",
              "      --hover-fill-color: #FFFFFF;\n",
              "      --disabled-bg-color: #3B4455;\n",
              "      --disabled-fill-color: #666;\n",
              "  }\n",
              "\n",
              "  .colab-df-quickchart {\n",
              "    background-color: var(--bg-color);\n",
              "    border: none;\n",
              "    border-radius: 50%;\n",
              "    cursor: pointer;\n",
              "    display: none;\n",
              "    fill: var(--fill-color);\n",
              "    height: 32px;\n",
              "    padding: 0;\n",
              "    width: 32px;\n",
              "  }\n",
              "\n",
              "  .colab-df-quickchart:hover {\n",
              "    background-color: var(--hover-bg-color);\n",
              "    box-shadow: 0 1px 2px rgba(60, 64, 67, 0.3), 0 1px 3px 1px rgba(60, 64, 67, 0.15);\n",
              "    fill: var(--button-hover-fill-color);\n",
              "  }\n",
              "\n",
              "  .colab-df-quickchart-complete:disabled,\n",
              "  .colab-df-quickchart-complete:disabled:hover {\n",
              "    background-color: var(--disabled-bg-color);\n",
              "    fill: var(--disabled-fill-color);\n",
              "    box-shadow: none;\n",
              "  }\n",
              "\n",
              "  .colab-df-spinner {\n",
              "    border: 2px solid var(--fill-color);\n",
              "    border-color: transparent;\n",
              "    border-bottom-color: var(--fill-color);\n",
              "    animation:\n",
              "      spin 1s steps(1) infinite;\n",
              "  }\n",
              "\n",
              "  @keyframes spin {\n",
              "    0% {\n",
              "      border-color: transparent;\n",
              "      border-bottom-color: var(--fill-color);\n",
              "      border-left-color: var(--fill-color);\n",
              "    }\n",
              "    20% {\n",
              "      border-color: transparent;\n",
              "      border-left-color: var(--fill-color);\n",
              "      border-top-color: var(--fill-color);\n",
              "    }\n",
              "    30% {\n",
              "      border-color: transparent;\n",
              "      border-left-color: var(--fill-color);\n",
              "      border-top-color: var(--fill-color);\n",
              "      border-right-color: var(--fill-color);\n",
              "    }\n",
              "    40% {\n",
              "      border-color: transparent;\n",
              "      border-right-color: var(--fill-color);\n",
              "      border-top-color: var(--fill-color);\n",
              "    }\n",
              "    60% {\n",
              "      border-color: transparent;\n",
              "      border-right-color: var(--fill-color);\n",
              "    }\n",
              "    80% {\n",
              "      border-color: transparent;\n",
              "      border-right-color: var(--fill-color);\n",
              "      border-bottom-color: var(--fill-color);\n",
              "    }\n",
              "    90% {\n",
              "      border-color: transparent;\n",
              "      border-bottom-color: var(--fill-color);\n",
              "    }\n",
              "  }\n",
              "</style>\n",
              "\n",
              "  <script>\n",
              "    async function quickchart(key) {\n",
              "      const quickchartButtonEl =\n",
              "        document.querySelector('#' + key + ' button');\n",
              "      quickchartButtonEl.disabled = true;  // To prevent multiple clicks.\n",
              "      quickchartButtonEl.classList.add('colab-df-spinner');\n",
              "      try {\n",
              "        const charts = await google.colab.kernel.invokeFunction(\n",
              "            'suggestCharts', [key], {});\n",
              "      } catch (error) {\n",
              "        console.error('Error during call to suggestCharts:', error);\n",
              "      }\n",
              "      quickchartButtonEl.classList.remove('colab-df-spinner');\n",
              "      quickchartButtonEl.classList.add('colab-df-quickchart-complete');\n",
              "    }\n",
              "    (() => {\n",
              "      let quickchartButtonEl =\n",
              "        document.querySelector('#df-aad96e4a-dd81-4724-bf81-81017d63ab81 button');\n",
              "      quickchartButtonEl.style.display =\n",
              "        google.colab.kernel.accessAllowed ? 'block' : 'none';\n",
              "    })();\n",
              "  </script>\n",
              "</div>\n",
              "    </div>\n",
              "  </div>\n"
            ]
          },
          "metadata": {},
          "execution_count": 9
        }
      ],
      "source": [
        "well_14.head()"
      ]
    },
    {
      "cell_type": "code",
      "execution_count": 10,
      "metadata": {
        "id": "585KY-mEyNQy"
      },
      "outputs": [],
      "source": [
        "data=pd.concat([well_14, well_15],axis=0)\n",
        "data['RT_log']=np.log10(data['RT'])"
      ]
    },
    {
      "cell_type": "code",
      "execution_count": 11,
      "metadata": {
        "colab": {
          "base_uri": "https://localhost:8080/",
          "height": 206
        },
        "id": "8ObDQxvdyNQz",
        "outputId": "632a2557-7f59-4c30-effd-39ba9ad6e4f3"
      },
      "outputs": [
        {
          "output_type": "execute_result",
          "data": {
            "text/plain": [
              "    Depth  Well       GR      RT    RHOB    NPHI Facies    RT_log\n",
              "0  3178.5    14  50.2190  0.5888  2.3296  0.3657     SH -0.230032\n",
              "1  3179.0    14  47.2468  0.7768  2.3170  0.3776     UN -0.109691\n",
              "2  3179.5    14  49.5247  1.0707  2.2960  0.5390     SH  0.029668\n",
              "3  3180.0    14  44.9124  1.4460  2.2514  0.5482     UN  0.160168\n",
              "4  3180.5    14  47.0048  0.9542  2.2733  0.5076     UN -0.020361"
            ],
            "text/html": [
              "\n",
              "  <div id=\"df-26a648af-8312-42b9-9ef5-6f4d5bbaf5c9\" class=\"colab-df-container\">\n",
              "    <div>\n",
              "<style scoped>\n",
              "    .dataframe tbody tr th:only-of-type {\n",
              "        vertical-align: middle;\n",
              "    }\n",
              "\n",
              "    .dataframe tbody tr th {\n",
              "        vertical-align: top;\n",
              "    }\n",
              "\n",
              "    .dataframe thead th {\n",
              "        text-align: right;\n",
              "    }\n",
              "</style>\n",
              "<table border=\"1\" class=\"dataframe\">\n",
              "  <thead>\n",
              "    <tr style=\"text-align: right;\">\n",
              "      <th></th>\n",
              "      <th>Depth</th>\n",
              "      <th>Well</th>\n",
              "      <th>GR</th>\n",
              "      <th>RT</th>\n",
              "      <th>RHOB</th>\n",
              "      <th>NPHI</th>\n",
              "      <th>Facies</th>\n",
              "      <th>RT_log</th>\n",
              "    </tr>\n",
              "  </thead>\n",
              "  <tbody>\n",
              "    <tr>\n",
              "      <th>0</th>\n",
              "      <td>3178.5</td>\n",
              "      <td>14</td>\n",
              "      <td>50.2190</td>\n",
              "      <td>0.5888</td>\n",
              "      <td>2.3296</td>\n",
              "      <td>0.3657</td>\n",
              "      <td>SH</td>\n",
              "      <td>-0.230032</td>\n",
              "    </tr>\n",
              "    <tr>\n",
              "      <th>1</th>\n",
              "      <td>3179.0</td>\n",
              "      <td>14</td>\n",
              "      <td>47.2468</td>\n",
              "      <td>0.7768</td>\n",
              "      <td>2.3170</td>\n",
              "      <td>0.3776</td>\n",
              "      <td>UN</td>\n",
              "      <td>-0.109691</td>\n",
              "    </tr>\n",
              "    <tr>\n",
              "      <th>2</th>\n",
              "      <td>3179.5</td>\n",
              "      <td>14</td>\n",
              "      <td>49.5247</td>\n",
              "      <td>1.0707</td>\n",
              "      <td>2.2960</td>\n",
              "      <td>0.5390</td>\n",
              "      <td>SH</td>\n",
              "      <td>0.029668</td>\n",
              "    </tr>\n",
              "    <tr>\n",
              "      <th>3</th>\n",
              "      <td>3180.0</td>\n",
              "      <td>14</td>\n",
              "      <td>44.9124</td>\n",
              "      <td>1.4460</td>\n",
              "      <td>2.2514</td>\n",
              "      <td>0.5482</td>\n",
              "      <td>UN</td>\n",
              "      <td>0.160168</td>\n",
              "    </tr>\n",
              "    <tr>\n",
              "      <th>4</th>\n",
              "      <td>3180.5</td>\n",
              "      <td>14</td>\n",
              "      <td>47.0048</td>\n",
              "      <td>0.9542</td>\n",
              "      <td>2.2733</td>\n",
              "      <td>0.5076</td>\n",
              "      <td>UN</td>\n",
              "      <td>-0.020361</td>\n",
              "    </tr>\n",
              "  </tbody>\n",
              "</table>\n",
              "</div>\n",
              "    <div class=\"colab-df-buttons\">\n",
              "\n",
              "  <div class=\"colab-df-container\">\n",
              "    <button class=\"colab-df-convert\" onclick=\"convertToInteractive('df-26a648af-8312-42b9-9ef5-6f4d5bbaf5c9')\"\n",
              "            title=\"Convert this dataframe to an interactive table.\"\n",
              "            style=\"display:none;\">\n",
              "\n",
              "  <svg xmlns=\"http://www.w3.org/2000/svg\" height=\"24px\" viewBox=\"0 -960 960 960\">\n",
              "    <path d=\"M120-120v-720h720v720H120Zm60-500h600v-160H180v160Zm220 220h160v-160H400v160Zm0 220h160v-160H400v160ZM180-400h160v-160H180v160Zm440 0h160v-160H620v160ZM180-180h160v-160H180v160Zm440 0h160v-160H620v160Z\"/>\n",
              "  </svg>\n",
              "    </button>\n",
              "\n",
              "  <style>\n",
              "    .colab-df-container {\n",
              "      display:flex;\n",
              "      gap: 12px;\n",
              "    }\n",
              "\n",
              "    .colab-df-convert {\n",
              "      background-color: #E8F0FE;\n",
              "      border: none;\n",
              "      border-radius: 50%;\n",
              "      cursor: pointer;\n",
              "      display: none;\n",
              "      fill: #1967D2;\n",
              "      height: 32px;\n",
              "      padding: 0 0 0 0;\n",
              "      width: 32px;\n",
              "    }\n",
              "\n",
              "    .colab-df-convert:hover {\n",
              "      background-color: #E2EBFA;\n",
              "      box-shadow: 0px 1px 2px rgba(60, 64, 67, 0.3), 0px 1px 3px 1px rgba(60, 64, 67, 0.15);\n",
              "      fill: #174EA6;\n",
              "    }\n",
              "\n",
              "    .colab-df-buttons div {\n",
              "      margin-bottom: 4px;\n",
              "    }\n",
              "\n",
              "    [theme=dark] .colab-df-convert {\n",
              "      background-color: #3B4455;\n",
              "      fill: #D2E3FC;\n",
              "    }\n",
              "\n",
              "    [theme=dark] .colab-df-convert:hover {\n",
              "      background-color: #434B5C;\n",
              "      box-shadow: 0px 1px 3px 1px rgba(0, 0, 0, 0.15);\n",
              "      filter: drop-shadow(0px 1px 2px rgba(0, 0, 0, 0.3));\n",
              "      fill: #FFFFFF;\n",
              "    }\n",
              "  </style>\n",
              "\n",
              "    <script>\n",
              "      const buttonEl =\n",
              "        document.querySelector('#df-26a648af-8312-42b9-9ef5-6f4d5bbaf5c9 button.colab-df-convert');\n",
              "      buttonEl.style.display =\n",
              "        google.colab.kernel.accessAllowed ? 'block' : 'none';\n",
              "\n",
              "      async function convertToInteractive(key) {\n",
              "        const element = document.querySelector('#df-26a648af-8312-42b9-9ef5-6f4d5bbaf5c9');\n",
              "        const dataTable =\n",
              "          await google.colab.kernel.invokeFunction('convertToInteractive',\n",
              "                                                    [key], {});\n",
              "        if (!dataTable) return;\n",
              "\n",
              "        const docLinkHtml = 'Like what you see? Visit the ' +\n",
              "          '<a target=\"_blank\" href=https://colab.research.google.com/notebooks/data_table.ipynb>data table notebook</a>'\n",
              "          + ' to learn more about interactive tables.';\n",
              "        element.innerHTML = '';\n",
              "        dataTable['output_type'] = 'display_data';\n",
              "        await google.colab.output.renderOutput(dataTable, element);\n",
              "        const docLink = document.createElement('div');\n",
              "        docLink.innerHTML = docLinkHtml;\n",
              "        element.appendChild(docLink);\n",
              "      }\n",
              "    </script>\n",
              "  </div>\n",
              "\n",
              "\n",
              "<div id=\"df-32891e3c-e7cd-43fe-94a4-bfae281a67d2\">\n",
              "  <button class=\"colab-df-quickchart\" onclick=\"quickchart('df-32891e3c-e7cd-43fe-94a4-bfae281a67d2')\"\n",
              "            title=\"Suggest charts.\"\n",
              "            style=\"display:none;\">\n",
              "\n",
              "<svg xmlns=\"http://www.w3.org/2000/svg\" height=\"24px\"viewBox=\"0 0 24 24\"\n",
              "     width=\"24px\">\n",
              "    <g>\n",
              "        <path d=\"M19 3H5c-1.1 0-2 .9-2 2v14c0 1.1.9 2 2 2h14c1.1 0 2-.9 2-2V5c0-1.1-.9-2-2-2zM9 17H7v-7h2v7zm4 0h-2V7h2v10zm4 0h-2v-4h2v4z\"/>\n",
              "    </g>\n",
              "</svg>\n",
              "  </button>\n",
              "\n",
              "<style>\n",
              "  .colab-df-quickchart {\n",
              "      --bg-color: #E8F0FE;\n",
              "      --fill-color: #1967D2;\n",
              "      --hover-bg-color: #E2EBFA;\n",
              "      --hover-fill-color: #174EA6;\n",
              "      --disabled-fill-color: #AAA;\n",
              "      --disabled-bg-color: #DDD;\n",
              "  }\n",
              "\n",
              "  [theme=dark] .colab-df-quickchart {\n",
              "      --bg-color: #3B4455;\n",
              "      --fill-color: #D2E3FC;\n",
              "      --hover-bg-color: #434B5C;\n",
              "      --hover-fill-color: #FFFFFF;\n",
              "      --disabled-bg-color: #3B4455;\n",
              "      --disabled-fill-color: #666;\n",
              "  }\n",
              "\n",
              "  .colab-df-quickchart {\n",
              "    background-color: var(--bg-color);\n",
              "    border: none;\n",
              "    border-radius: 50%;\n",
              "    cursor: pointer;\n",
              "    display: none;\n",
              "    fill: var(--fill-color);\n",
              "    height: 32px;\n",
              "    padding: 0;\n",
              "    width: 32px;\n",
              "  }\n",
              "\n",
              "  .colab-df-quickchart:hover {\n",
              "    background-color: var(--hover-bg-color);\n",
              "    box-shadow: 0 1px 2px rgba(60, 64, 67, 0.3), 0 1px 3px 1px rgba(60, 64, 67, 0.15);\n",
              "    fill: var(--button-hover-fill-color);\n",
              "  }\n",
              "\n",
              "  .colab-df-quickchart-complete:disabled,\n",
              "  .colab-df-quickchart-complete:disabled:hover {\n",
              "    background-color: var(--disabled-bg-color);\n",
              "    fill: var(--disabled-fill-color);\n",
              "    box-shadow: none;\n",
              "  }\n",
              "\n",
              "  .colab-df-spinner {\n",
              "    border: 2px solid var(--fill-color);\n",
              "    border-color: transparent;\n",
              "    border-bottom-color: var(--fill-color);\n",
              "    animation:\n",
              "      spin 1s steps(1) infinite;\n",
              "  }\n",
              "\n",
              "  @keyframes spin {\n",
              "    0% {\n",
              "      border-color: transparent;\n",
              "      border-bottom-color: var(--fill-color);\n",
              "      border-left-color: var(--fill-color);\n",
              "    }\n",
              "    20% {\n",
              "      border-color: transparent;\n",
              "      border-left-color: var(--fill-color);\n",
              "      border-top-color: var(--fill-color);\n",
              "    }\n",
              "    30% {\n",
              "      border-color: transparent;\n",
              "      border-left-color: var(--fill-color);\n",
              "      border-top-color: var(--fill-color);\n",
              "      border-right-color: var(--fill-color);\n",
              "    }\n",
              "    40% {\n",
              "      border-color: transparent;\n",
              "      border-right-color: var(--fill-color);\n",
              "      border-top-color: var(--fill-color);\n",
              "    }\n",
              "    60% {\n",
              "      border-color: transparent;\n",
              "      border-right-color: var(--fill-color);\n",
              "    }\n",
              "    80% {\n",
              "      border-color: transparent;\n",
              "      border-right-color: var(--fill-color);\n",
              "      border-bottom-color: var(--fill-color);\n",
              "    }\n",
              "    90% {\n",
              "      border-color: transparent;\n",
              "      border-bottom-color: var(--fill-color);\n",
              "    }\n",
              "  }\n",
              "</style>\n",
              "\n",
              "  <script>\n",
              "    async function quickchart(key) {\n",
              "      const quickchartButtonEl =\n",
              "        document.querySelector('#' + key + ' button');\n",
              "      quickchartButtonEl.disabled = true;  // To prevent multiple clicks.\n",
              "      quickchartButtonEl.classList.add('colab-df-spinner');\n",
              "      try {\n",
              "        const charts = await google.colab.kernel.invokeFunction(\n",
              "            'suggestCharts', [key], {});\n",
              "      } catch (error) {\n",
              "        console.error('Error during call to suggestCharts:', error);\n",
              "      }\n",
              "      quickchartButtonEl.classList.remove('colab-df-spinner');\n",
              "      quickchartButtonEl.classList.add('colab-df-quickchart-complete');\n",
              "    }\n",
              "    (() => {\n",
              "      let quickchartButtonEl =\n",
              "        document.querySelector('#df-32891e3c-e7cd-43fe-94a4-bfae281a67d2 button');\n",
              "      quickchartButtonEl.style.display =\n",
              "        google.colab.kernel.accessAllowed ? 'block' : 'none';\n",
              "    })();\n",
              "  </script>\n",
              "</div>\n",
              "    </div>\n",
              "  </div>\n"
            ]
          },
          "metadata": {},
          "execution_count": 11
        }
      ],
      "source": [
        "data.head()"
      ]
    },
    {
      "cell_type": "markdown",
      "metadata": {
        "id": "4UkSuoz7yNQz"
      },
      "source": [
        "GR - Gamma Radioactivity\n",
        "\n",
        "RT - Total Resistivity\n",
        "\n",
        "RHOB - Density\n",
        "\n",
        "NPHI - Neutron Porosity\n",
        "\n",
        "Facies - Rock types and position\n",
        "\n",
        "RT_Log - Resistivity of Uninvaded zone"
      ]
    },
    {
      "cell_type": "code",
      "execution_count": null,
      "metadata": {
        "colab": {
          "base_uri": "https://localhost:8080/"
        },
        "id": "MSZkx38GyNQ0",
        "outputId": "18111088-80b1-4988-abf6-13d60aa08ab9"
      },
      "outputs": [
        {
          "output_type": "execute_result",
          "data": {
            "text/plain": [
              "<seaborn.axisgrid.PairGrid at 0x7c317e0b1e70>"
            ]
          },
          "metadata": {},
          "execution_count": 12
        }
      ],
      "source": [
        "sns.pairplot(data.drop(['Well','Depth'], axis = 1) ,hue='Facies',diag_kind='hist')"
      ]
    },
    {
      "cell_type": "code",
      "execution_count": null,
      "metadata": {
        "id": "yEDGTrEDyNQ0"
      },
      "outputs": [],
      "source": [
        "labels=[1,2,3,4]\n",
        "data['Facies_labels']=np.select([data['Facies'] == 'SH',\n",
        "                                data['Facies'] == 'UN',\n",
        "                                data['Facies'] == 'SS',\n",
        "                                data['Facies'] == 'CB',]\n",
        "                                ,labels)"
      ]
    },
    {
      "cell_type": "code",
      "execution_count": null,
      "metadata": {
        "id": "EzUmCJovyNQ1"
      },
      "outputs": [],
      "source": [
        "data.head()"
      ]
    },
    {
      "cell_type": "code",
      "execution_count": null,
      "metadata": {
        "id": "LHtCb6ysyNQ1"
      },
      "outputs": [],
      "source": [
        "facies_colors=['#2E86C1', '#196F3D','#F4D03F','#DC7633']\n",
        "facies = ['SH', 'UN', 'SS', 'CB']\n",
        "\n",
        "def log_plot(logs,facies_colors):\n",
        "    logs=logs.sort_values(by='Depth')\n",
        "    cmap_facies = colors.ListedColormap(\n",
        "            facies_colors[0:len(facies_colors)], 'indexed')\n",
        "\n",
        "    ztop=logs.Depth.min(); zbot=logs.Depth.max()\n",
        "\n",
        "    cluster=np.repeat(np.expand_dims(logs['Facies_labels'].values,1), 100, 1)\n",
        "\n",
        "    f,ax=plt.subplots(nrows=1,ncols=5,figsize=(8,12))\n",
        "    ax[0].plot(logs.GR, logs.Depth, '-g')\n",
        "    ax[1].plot(logs.RT_log, logs.Depth, '-')\n",
        "    ax[2].plot(logs.NPHI, logs.Depth, '-', color='0.5')\n",
        "    ax[3].plot(logs.RHOB, logs.Depth, '-', color='r')\n",
        "    im=ax[4].imshow(cluster, interpolation='none', aspect='auto',\n",
        "                   cmap=cmap_facies,vmin=1,vmax=4)\n",
        "\n",
        "    divider = make_axes_locatable(ax[4])\n",
        "    cax = divider.append_axes(\"right\", size=\"20%\", pad=0.05)\n",
        "    cbar=plt.colorbar(im, cax=cax)\n",
        "    cbar.set_label((50*' ').join(['SH', 'UN', 'SS', 'CB']))\n",
        "    cbar.set_ticks(range(0,1)); cbar.set_ticklabels('')\n",
        "\n",
        "    for i in range(len(ax)-1):\n",
        "        ax[i].set_ylim(ztop,zbot)\n",
        "        ax[i].invert_yaxis()\n",
        "        ax[i].grid()\n",
        "        ax[i].locator_params(axis='x', nbins=3)\n",
        "\n",
        "    ax[0].set_xlabel(\"GR\")\n",
        "    ax[0].set_xlim(logs.GR.min(),logs.GR.max())\n",
        "    ax[1].set_xlabel(\"RT\")\n",
        "    ax[1].set_xlim(logs.RT_log.min(),logs.RT_log.max())\n",
        "    ax[2].set_xlabel(\"NPHI\")\n",
        "    ax[2].set_xlim(logs.NPHI.min(),logs.NPHI.max())\n",
        "    ax[3].set_xlabel(\"RHOB\")\n",
        "    ax[3].set_xlim(logs.RHOB.min(),logs.RHOB.max())\n",
        "    ax[4].set_xlabel('Facies')\n",
        "\n",
        "    ax[1].set_yticklabels([])\n",
        "    ax[2].set_yticklabels([])\n",
        "    ax[3].set_yticklabels([])\n",
        "    ax[4].set_yticklabels([])\n",
        "    ax[4].set_xticklabels([])\n",
        "    f.suptitle('Well: %s'%logs.iloc[0]['Well'], fontsize=14,y=0.94)"
      ]
    },
    {
      "cell_type": "code",
      "execution_count": null,
      "metadata": {
        "id": "e1R6-K9MyNQ1"
      },
      "outputs": [],
      "source": [
        "log_plot(data[data['Well'] == 14],facies_colors)"
      ]
    },
    {
      "cell_type": "code",
      "execution_count": null,
      "metadata": {
        "id": "Osk0BRnhyNQ2"
      },
      "outputs": [],
      "source": [
        "#Bar chart: Distribution of Facies\n",
        "Facies_dist = data['Facies'].value_counts().sort_index()\n",
        "\n",
        "Facies_dist.plot(kind='bar',color=facies_colors,\n",
        "                   title='Distribution of Facies')"
      ]
    },
    {
      "cell_type": "code",
      "execution_count": null,
      "metadata": {
        "id": "v_1dPqS3yNQ2"
      },
      "outputs": [],
      "source": [
        "data.set_index('Depth',inplace=True)\n"
      ]
    },
    {
      "cell_type": "code",
      "execution_count": null,
      "metadata": {
        "id": "5hlQVwDgyNQ2"
      },
      "outputs": [],
      "source": [
        "data.groupby(\"Well\").count()"
      ]
    },
    {
      "cell_type": "code",
      "execution_count": null,
      "metadata": {
        "id": "NfirI0ohyNQ2"
      },
      "outputs": [],
      "source": [
        "data.info()"
      ]
    },
    {
      "cell_type": "code",
      "execution_count": null,
      "metadata": {
        "id": "piDSXGiHyNQ2"
      },
      "outputs": [],
      "source": [
        "data.head()"
      ]
    },
    {
      "cell_type": "code",
      "execution_count": null,
      "metadata": {
        "id": "rWjeCmtmyNQ2"
      },
      "outputs": [],
      "source": [
        "X = data.drop(['Facies','Well','Facies_labels','RT_log'], axis = 1) #Features: Feature vector\n",
        "y = data['Facies']"
      ]
    },
    {
      "cell_type": "code",
      "execution_count": null,
      "metadata": {
        "id": "QM7OauyAyNQ2"
      },
      "outputs": [],
      "source": [
        "from sklearn.model_selection import train_test_split\n",
        "from sklearn.preprocessing import RobustScaler\n",
        "from sklearn.ensemble import IsolationForest, RandomForestClassifier"
      ]
    },
    {
      "cell_type": "code",
      "execution_count": null,
      "metadata": {
        "id": "7uuklk-QyNQ2"
      },
      "outputs": [],
      "source": [
        "X_train, X_test, y_train, y_test = train_test_split(X, y, test_size=0.3, random_state=100)\n",
        "print('Dimensions of X_train:',X_train.shape)\n",
        "print('Dimensions of X_test:',X_test.shape)"
      ]
    },
    {
      "cell_type": "code",
      "execution_count": null,
      "metadata": {
        "id": "rrgV6Ps1yNQ3"
      },
      "outputs": [],
      "source": [
        "X_train.hist()\n",
        "plt.show()"
      ]
    },
    {
      "cell_type": "markdown",
      "metadata": {
        "id": "Z2xuQwlXyNQ3"
      },
      "source": [
        "### Scaling"
      ]
    },
    {
      "cell_type": "code",
      "execution_count": null,
      "metadata": {
        "id": "aSc51r2EyNQ3"
      },
      "outputs": [],
      "source": [
        "#Types of scaling methods  -\n",
        "#1) Min Max Scaler\n",
        "#2) Standard Scaler\n",
        "#3) Max Abs Scaler\n",
        "#4) Robust Scaler\n",
        "#5) Quantile Transformer Scaler\n",
        "#6) Power Transformer Scaler\n",
        "#7) Unit Vector Scaler"
      ]
    },
    {
      "cell_type": "code",
      "execution_count": null,
      "metadata": {
        "id": "MSXjqS0pyNQ3"
      },
      "outputs": [],
      "source": [
        "# Robust Scaler\n",
        "rscaler=RobustScaler()#instantiate\n",
        "rscaler.fit(X_train)"
      ]
    },
    {
      "cell_type": "code",
      "execution_count": null,
      "metadata": {
        "id": "xvb-99j5yNQ3"
      },
      "outputs": [],
      "source": [
        "X_train_scaled = rscaler.transform(X_train) # transform the train dataset to standardized data\n",
        "\n",
        "# Original training dataset\n",
        "print(\"Original median : %s \" % rscaler.center_)\n",
        "print(\"Original IQR : %s \" % rscaler.scale_)\n",
        "\n",
        "#Scaled training dataset\n",
        "print(\"Scaled median : %s \" % np.median(X_train_scaled,axis=0))\n",
        "print(\"Scaled IQR : %s \" % (np.percentile(X_train_scaled, 75,axis=0)-np.percentile(X_train_scaled, 25,axis=0)))"
      ]
    },
    {
      "cell_type": "code",
      "execution_count": null,
      "metadata": {
        "id": "vUvsJ1aWyNQ3"
      },
      "outputs": [],
      "source": [
        "#Scale the test data using the parameters learnt from the training dataset\n",
        "X_test_scaled  = rscaler.transform(X_test)\n",
        "\n",
        "print(\"Median of scaled test data: %s\" % np.median(X_test_scaled,axis=0))\n",
        "print(\"IQR of scaled test data: %s \" % (np.percentile(X_test_scaled, 75,axis=0)-np.percentile(X_test_scaled, 25,axis=0)))"
      ]
    },
    {
      "cell_type": "code",
      "execution_count": null,
      "metadata": {
        "id": "1bsM32XwyNQ3"
      },
      "outputs": [],
      "source": [
        "pd.DataFrame(X_train_scaled,index=X_train.index, columns=X_test.columns).hist()\n",
        "plt.show()"
      ]
    },
    {
      "cell_type": "code",
      "execution_count": null,
      "metadata": {
        "id": "CkxOmCqzyNQ4"
      },
      "outputs": [],
      "source": [
        "X_train=pd.DataFrame(X_train_scaled,index=X_train.index, columns=X_test.columns)\n",
        "X_test=pd.DataFrame(X_test_scaled,index=X_test.index, columns=X_test.columns)\n",
        "X_test"
      ]
    },
    {
      "cell_type": "markdown",
      "metadata": {
        "id": "OvAtY_LoyNQ4"
      },
      "source": [
        "### Outlier Detection - Isolation Forest"
      ]
    },
    {
      "cell_type": "markdown",
      "metadata": {
        "id": "NVj9yWnzyNQ4"
      },
      "source": [
        "##### In principle, outliers are less frequent than regular observations and are different from them in terms of values (they lie further away from the regular observations in the feature space)."
      ]
    },
    {
      "cell_type": "code",
      "execution_count": null,
      "metadata": {
        "id": "Ih58tPjGyNQ4"
      },
      "outputs": [],
      "source": [
        "# Isolation Forest\n",
        "iforest = IsolationForest(n_estimators=200, contamination=0.5/100)\n",
        "iforest = iforest.fit(X_train) #Training the model"
      ]
    },
    {
      "cell_type": "code",
      "execution_count": null,
      "metadata": {
        "id": "AWL2_oKPyNQ4"
      },
      "outputs": [],
      "source": [
        "#Predictions\n",
        "X_train_predict = iforest.predict(X_train)\n",
        "X_train['Predict']=X_train_predict\n",
        "X_train['Predict'] = X_train['Predict'].astype('category')\n",
        "X_train"
      ]
    },
    {
      "cell_type": "code",
      "execution_count": null,
      "metadata": {
        "id": "4YEQjxrMyNQ4"
      },
      "outputs": [],
      "source": [
        "#Visualization\n",
        "sns.pairplot(X_train,hue='Predict',diag_kind='hist')"
      ]
    },
    {
      "cell_type": "code",
      "execution_count": null,
      "metadata": {
        "id": "zfVHLzw0yNQ4"
      },
      "outputs": [],
      "source": [
        "#Removing Outliers\n",
        "X_train['y_train']=y_train\n",
        "X_train = X_train[X_train['Predict'] == 1]\n",
        "\n",
        "y_train=X_train['y_train']\n",
        "X_train = X_train.drop(['Predict','y_train'], axis = 1)"
      ]
    },
    {
      "cell_type": "code",
      "execution_count": null,
      "metadata": {
        "id": "caswQ9BSyNQ4"
      },
      "outputs": [],
      "source": [
        "print(len(X_train))\n",
        "print(len(y_train))"
      ]
    },
    {
      "cell_type": "code",
      "execution_count": null,
      "metadata": {
        "id": "vluC5OD2yNQ5"
      },
      "outputs": [],
      "source": [
        "#Visualization Without Outliers\n",
        "sns.pairplot(X_train,diag_kind='hist')"
      ]
    },
    {
      "cell_type": "markdown",
      "metadata": {
        "id": "sjqDDdD2yNQ5"
      },
      "source": [
        "Logistic Regression\n",
        "----"
      ]
    },
    {
      "cell_type": "code",
      "execution_count": null,
      "metadata": {
        "id": "tYKtDCL9yNQ5"
      },
      "outputs": [],
      "source": [
        "from sklearn.linear_model import LogisticRegression"
      ]
    },
    {
      "cell_type": "code",
      "execution_count": null,
      "metadata": {
        "id": "hR-FPgYsyNQ5"
      },
      "outputs": [],
      "source": [
        "logmodel = LogisticRegression()\n",
        "logmodel.fit(X_train,y_train)"
      ]
    },
    {
      "cell_type": "code",
      "execution_count": null,
      "metadata": {
        "id": "CVMdB-8jyNQ9"
      },
      "outputs": [],
      "source": [
        "print(logmodel.coef_)"
      ]
    },
    {
      "cell_type": "code",
      "execution_count": null,
      "metadata": {
        "id": "aymPCEkiyNQ-"
      },
      "outputs": [],
      "source": [
        "print(logmodel.intercept_)"
      ]
    },
    {
      "cell_type": "code",
      "execution_count": null,
      "metadata": {
        "id": "d_Jj_LnDyNQ-"
      },
      "outputs": [],
      "source": [
        "predictions=logmodel.predict(X_test)"
      ]
    },
    {
      "cell_type": "code",
      "execution_count": null,
      "metadata": {
        "id": "09IDQsXbyNQ-"
      },
      "outputs": [],
      "source": [
        "#Compare against true labels (Accuracy)\n",
        "print('Accuracy (generalization)',logmodel.score(X_test,y_test)) #Accuracy (generalization)\n",
        "print('Accuracy (memorization)',logmodel.score(X_train,y_train)) #Accuracy (memorization)"
      ]
    },
    {
      "cell_type": "code",
      "execution_count": null,
      "metadata": {
        "id": "hDAz-zVUyNQ-"
      },
      "outputs": [],
      "source": [
        "from sklearn.metrics import f1_score, recall_score, precision_score, classification_report, confusion_matrix"
      ]
    },
    {
      "cell_type": "code",
      "execution_count": null,
      "metadata": {
        "id": "FLgAgT-yyNQ-"
      },
      "outputs": [],
      "source": [
        "#Comparing other metrics (f1_score)\n",
        "print('F1_score (generalization)',f1_score(y_test,logmodel.predict(X_test),average=\"weighted\")) #Accuracy (generalization)\n",
        "print('F1_score (memorization)',f1_score(y_train,logmodel.predict(X_train),average=\"weighted\")) #Accuracy (memorization)"
      ]
    },
    {
      "cell_type": "code",
      "execution_count": null,
      "metadata": {
        "id": "eDZrs3bhyNQ-"
      },
      "outputs": [],
      "source": [
        "print(classification_report(y_test,predictions))"
      ]
    },
    {
      "cell_type": "code",
      "execution_count": null,
      "metadata": {
        "id": "E4-FFy4yyNQ-"
      },
      "outputs": [],
      "source": [
        "#Confusion Matrix\n",
        "names = ['SH', 'UN', 'SS', 'CB']\n",
        "\n",
        "cf_matrix = confusion_matrix(y_train, logmodel.predict(X_train))\n",
        "cf_matrix\n",
        "cf=sns.heatmap(cf_matrix, annot=True, annot_kws={\"size\": 12},cmap='Blues',fmt=\"d\",xticklabels=names,yticklabels=names)\n",
        "\n",
        "plt.show()"
      ]
    },
    {
      "cell_type": "markdown",
      "metadata": {
        "id": "8sbEbn8syNQ-"
      },
      "source": [
        "Random Forrest  \n",
        "---"
      ]
    },
    {
      "cell_type": "code",
      "execution_count": null,
      "metadata": {
        "id": "BqsfwL97yNQ-"
      },
      "outputs": [],
      "source": [
        "cforest=RandomForestClassifier(criterion='entropy',n_estimators=100,max_depth=5,random_state=1, n_jobs=2) #Creating Instance\n",
        "cforest.fit(X_train, y_train) #Learning the decision boundaries\n",
        "y_pred = cforest.predict(X_test)"
      ]
    },
    {
      "cell_type": "code",
      "execution_count": null,
      "metadata": {
        "id": "NjjV0th1yNQ-"
      },
      "outputs": [],
      "source": [
        "#Compare against true labels (Accuracy)\n",
        "print('Accuracy (generalization)',cforest.score(X_test,y_test)) #Accuracy (generalization)\n",
        "print('Accuracy (memorization)',cforest.score(X_train,y_train)) #Accuracy (memorization)"
      ]
    },
    {
      "cell_type": "code",
      "execution_count": null,
      "metadata": {
        "id": "Th8Wb33xyNQ_"
      },
      "outputs": [],
      "source": [
        "#Comparing other metrics (f1_score)\n",
        "print('F1_score (generalization)',f1_score(y_test,cforest.predict(X_test),average=\"weighted\")) #F1_score (generalization)\n",
        "print('F1_score (memorization)',f1_score(y_train,cforest.predict(X_train),average=\"weighted\")) #F1_score (memorization)"
      ]
    },
    {
      "cell_type": "code",
      "execution_count": null,
      "metadata": {
        "id": "IqtR0kWlyNQ_"
      },
      "outputs": [],
      "source": [
        "print(classification_report(y_test,y_pred))"
      ]
    },
    {
      "cell_type": "markdown",
      "metadata": {
        "id": "hOq7VsmSyNQ_"
      },
      "source": [
        "Suppport Vector Machine\n",
        "----"
      ]
    },
    {
      "cell_type": "code",
      "execution_count": null,
      "metadata": {
        "id": "AICnbU1WyNQ_"
      },
      "outputs": [],
      "source": [
        "from sklearn.model_selection import GridSearchCV\n",
        "from sklearn.svm import LinearSVC, SVC\n",
        "\n",
        "#Defining parameter range\n",
        "Tuned_parameters = [{'kernel': ['rbf'], 'gamma': [1, 0.1, 0.01, 0.001, 0.0001],\n",
        "                     'C': [0.1, 1, 10, 100, 1000]},\n",
        "                    {'kernel': ['linear'], 'C': [1, 10, 100, 1000]},\n",
        "                    {'kernel': ['poly'],'C': [1, 10, 100, 1000],'degree': [2,3,4]}]\n",
        "\n",
        "svc_mod = GridSearchCV(SVC(), Tuned_parameters, refit = True, verbose = 3)"
      ]
    },
    {
      "cell_type": "code",
      "execution_count": null,
      "metadata": {
        "id": "MgFA_wZpyNQ_"
      },
      "outputs": [],
      "source": [
        "svc_mod.fit(X_train, y_train)\n",
        "svc_mod.best_estimator_"
      ]
    },
    {
      "cell_type": "code",
      "execution_count": null,
      "metadata": {
        "id": "0EwHO1dzyNQ_"
      },
      "outputs": [],
      "source": [
        "print(svc_mod.best_params_)"
      ]
    },
    {
      "cell_type": "code",
      "execution_count": null,
      "metadata": {
        "id": "rwWKC9hhyNRA"
      },
      "outputs": [],
      "source": [
        "#Performance (Accuracy)\n",
        "print('Accuracy (generalization)',svc_mod.score(X_test,y_test)) #Accuracy (generalization)\n",
        "print('Accuracy (memorization)',svc_mod.score(X_train,y_train)) #Accuracy (memorization)\n",
        "\n",
        "#Comparing other metrics (f1_score)\n",
        "print('F1_score (generalization)',f1_score(y_test,svc_mod.predict(X_test),average=\"weighted\")) #F1_score (generalization)\n",
        "print('F1_score (memorization)',f1_score(y_train,svc_mod.predict(X_train),average=\"weighted\")) #F1_score (memorization)"
      ]
    },
    {
      "cell_type": "code",
      "execution_count": null,
      "metadata": {
        "id": "2lMrV31tyNRA"
      },
      "outputs": [],
      "source": [
        "srbf=SVC(C=100,kernel='rbf',gamma=0.1)\n",
        "srbf.fit(X_train, y_train)"
      ]
    },
    {
      "cell_type": "code",
      "execution_count": null,
      "metadata": {
        "id": "v4-yiAaFyNRB"
      },
      "outputs": [],
      "source": [
        "#Performance (Accuracy)\n",
        "print('Accuracy (generalization)',srbf.score(X_test,y_test)) #Accuracy (generalization)\n",
        "print('Accuracy (memorization)',srbf.score(X_train,y_train)) #Accuracy (memorization)\n",
        "\n",
        "#Comparing other metrics (f1_score)\n",
        "print('F1_score (generalization)',f1_score(y_test,srbf.predict(X_test),average=\"weighted\")) #F1_score (generalization)\n",
        "print('F1_score (memorization)',f1_score(y_train,srbf.predict(X_train),average=\"weighted\")) #F1_score (memorization)"
      ]
    },
    {
      "cell_type": "code",
      "execution_count": null,
      "metadata": {
        "id": "oFiZj9ZiyNRB"
      },
      "outputs": [],
      "source": [
        "#Confusion Matrix\n",
        "cf_matrix = confusion_matrix(y_train, srbf.predict(X_train))\n",
        "\n",
        "sns.heatmap(cf_matrix, annot=True, annot_kws={\"size\": 12},cmap='Blues',fmt=\"d\",xticklabels=names,yticklabels=names)\n",
        "\n",
        "plt.show()"
      ]
    },
    {
      "cell_type": "code",
      "execution_count": null,
      "metadata": {
        "id": "CBsDj-2tyNRC"
      },
      "outputs": [],
      "source": []
    }
  ],
  "metadata": {
    "kernelspec": {
      "display_name": "Python 3",
      "language": "python",
      "name": "python3"
    },
    "language_info": {
      "codemirror_mode": {
        "name": "ipython",
        "version": 3
      },
      "file_extension": ".py",
      "mimetype": "text/x-python",
      "name": "python",
      "nbconvert_exporter": "python",
      "pygments_lexer": "ipython3",
      "version": "3.8.5"
    },
    "colab": {
      "provenance": [],
      "include_colab_link": true
    }
  },
  "nbformat": 4,
  "nbformat_minor": 0
}